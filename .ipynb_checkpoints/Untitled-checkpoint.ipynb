{
 "cells": [
  {
   "cell_type": "code",
   "execution_count": 1,
   "metadata": {},
   "outputs": [],
   "source": [
    "import pandas as pd\n",
    "import numpy as np\n",
    "from sklearn.preprocessing import PolynomialFeatures\n",
    "from sklearn import linear_model"
   ]
  },
  {
   "cell_type": "code",
   "execution_count": 2,
   "metadata": {},
   "outputs": [],
   "source": [
    "# read data\n",
    "title = ['Open', 'High', 'Low', 'Close']\n",
    "train_set = pd.read_csv(\"training.csv\", header=None, names = title)"
   ]
  },
  {
   "cell_type": "code",
   "execution_count": 3,
   "metadata": {},
   "outputs": [],
   "source": [
    "def generate_data(df,lookahead_days=1):\n",
    "    raw_x= []\n",
    "    title=['Open','High','Low','Close']\n",
    "    raw_x = df.loc[:,title].values\n",
    "    X,Y = [],[]\n",
    "    n = len(df)\n",
    "    for i in range(0,n-lookahead_days):\n",
    "        _Y = np.mean(raw_x[i+1:i+1+lookahead_days,0])\n",
    "        Y.append(_Y)\n",
    "    X = generate_feature(raw_x,0,n-lookahead_days)\n",
    "    Y = np.array(Y)\n",
    "    assert len(X) == len(Y)\n",
    "    return X,Y"
   ]
  },
  {
   "cell_type": "code",
   "execution_count": 4,
   "metadata": {},
   "outputs": [],
   "source": [
    "# feature includes current data and max,min,avg of open price of last 5 days\n",
    "def generate_feature(raw_x,start,end):\n",
    "    X = []\n",
    "    for i in range(start, end):\n",
    "        current_price = raw_x[i][0]\n",
    "        avg5_price = max5_price = min5_price = 0\n",
    "        if i == 0 :\n",
    "            avg5_price = max5_price = min5_price = current_price     \n",
    "        elif i < 5:\n",
    "            max5_price = np.max(raw_x[0:i,0])\n",
    "            min5_price = np.min(raw_x[0:i,0]) \n",
    "            avg5_price = np.mean(raw_x[0:i,0])         \n",
    "        else:\n",
    "            max5_price = np.max(raw_x[i-5:i,0])\n",
    "            min5_price = np.min(raw_x[i-5:i,0])\n",
    "            avg5_price = np.mean(raw_x[i-5:i,0])     \n",
    "        _X = np.append(raw_x[i], [avg5_price, max5_price, min5_price])\n",
    "        X.append(_X)\n",
    "    return np.array(X)"
   ]
  },
  {
   "cell_type": "code",
   "execution_count": 5,
   "metadata": {},
   "outputs": [],
   "source": [
    "lookahead_days = 4\n",
    "one_day_X, one_day_Y = generate_data(train_set,1)\n",
    "lookahead_X, lookahead_Y = generate_data(train_set,lookahead_days)"
   ]
  },
  {
   "cell_type": "code",
   "execution_count": 6,
   "metadata": {},
   "outputs": [],
   "source": [
    "# use PolynomialFeatures to try more features\n",
    "degree = 2\n",
    "poly = PolynomialFeatures(degree)\n",
    "poly_one_day_X = poly.fit_transform(one_day_X)\n",
    "poly_lookahead_X = poly.fit_transform(lookahead_X)"
   ]
  },
  {
   "cell_type": "code",
   "execution_count": 7,
   "metadata": {},
   "outputs": [],
   "source": [
    "# use linear model -> ridge regression\n",
    "# predict_tomorrow = linear_model.Ridge(alpha=1)\n",
    "# predict_3days = linear_model.Ridge(alpha=1)\n",
    "\n",
    "# I've also tried Lasso regression but it didn't work well\n",
    "# predict_tomorrow = linear_model.Lasso(alpha=1, tol=0.01)\n",
    "# predict_3days = linear_model.Lasso(alpha=1, tol=0.01)\n",
    "\n",
    "# sklearn support vector regression\n",
    "# from sklearn import svm\n",
    "# predict_tomorrow = svm.SVR()\n",
    "# predict_3days = svm.SVR()\n",
    "\n",
    "from sklearn import ensemble\n",
    "predict_tomorrow = ensemble.RandomForestRegressor(n_estimators=20)\n",
    "predict_3days = ensemble.RandomForestRegressor(n_estimators=20)"
   ]
  },
  {
   "cell_type": "code",
   "execution_count": 8,
   "metadata": {},
   "outputs": [
    {
     "data": {
      "text/plain": [
       "RandomForestRegressor(bootstrap=True, ccp_alpha=0.0, criterion='mse',\n",
       "                      max_depth=None, max_features='auto', max_leaf_nodes=None,\n",
       "                      max_samples=None, min_impurity_decrease=0.0,\n",
       "                      min_impurity_split=None, min_samples_leaf=1,\n",
       "                      min_samples_split=2, min_weight_fraction_leaf=0.0,\n",
       "                      n_estimators=20, n_jobs=None, oob_score=False,\n",
       "                      random_state=None, verbose=0, warm_start=False)"
      ]
     },
     "execution_count": 8,
     "metadata": {},
     "output_type": "execute_result"
    }
   ],
   "source": [
    "predict_tomorrow.fit(poly_one_day_X ,one_day_Y)\n",
    "predict_3days.fit(poly_lookahead_X ,lookahead_Y)"
   ]
  },
  {
   "cell_type": "code",
   "execution_count": 9,
   "metadata": {},
   "outputs": [],
   "source": [
    "def get_testing_data(path):\n",
    "    title = ['Open', 'High', 'Low', 'Close']\n",
    "    df = pd.read_csv(path, header=None, names = title)\n",
    "    raw_x = df.loc[:,title].values\n",
    "    X = generate_feature(raw_x, 0, len(raw_x))\n",
    "    return X"
   ]
  },
  {
   "cell_type": "code",
   "execution_count": 10,
   "metadata": {},
   "outputs": [],
   "source": [
    "testing_data = get_testing_data(\"testing.csv\")"
   ]
  },
  {
   "cell_type": "code",
   "execution_count": 11,
   "metadata": {},
   "outputs": [],
   "source": [
    "class Trader():\n",
    "    def __init__(self, predict_tomorrow, predict_3days):\n",
    "        self.predict_tomorrow = predict_tomorrow\n",
    "        self.predict_3days = predict_3days\n",
    "        self.day_count = 0    \n",
    "        self.slot = 0\n",
    "\n",
    "    def predict_action(self,current_data):\n",
    "        current_price = current_data[0]\n",
    "        next_price = self.predict_tomorrow.predict(current_data.reshape(1,-1))\n",
    "        mean_3days_price = self.predict_3days.predict(current_data.reshape(1,-1))\n",
    "        self.day_count += 1\n",
    "        action = self.policy(current_price, next_price, mean_3days_price)\n",
    "        return action\n",
    "\n",
    "    def policy(self,current_price,next_price,trend):\n",
    "        # you already have one\n",
    "        if self.slot == 1: \n",
    "            if next_price >  trend: \n",
    "                self.slot =0\n",
    "                return '-1'\n",
    "        # you have nothing\n",
    "        elif self.slot == 0:\n",
    "            if next_price >  trend: \n",
    "                self.slot = -1\n",
    "                return '-1'\n",
    "            if  next_price < trend: \n",
    "                self.slot = 1\n",
    "                return '1'\n",
    "        # you owe one\n",
    "        elif self.slot == -1:\n",
    "            if next_price <  trend: \n",
    "                self.slot =0\n",
    "                return '1'\n",
    "        return '0'"
   ]
  },
  {
   "cell_type": "code",
   "execution_count": 12,
   "metadata": {},
   "outputs": [],
   "source": [
    "trader = Trader(predict_tomorrow, predict_3days)"
   ]
  },
  {
   "cell_type": "code",
   "execution_count": 13,
   "metadata": {},
   "outputs": [],
   "source": [
    "with open(\"output.csv\", 'w') as output_file:\n",
    "    for line in testing_data[0:-1]:\n",
    "        # We will perform your action as the open price in the next day.\n",
    "\n",
    "        data = poly.fit_transform(line.reshape(1,-1))\n",
    "        action = trader.predict_action(data.ravel())\n",
    "\n",
    "        output_file.write(action+\"\\n\")"
   ]
  }
 ],
 "metadata": {
  "kernelspec": {
   "display_name": "Python [conda env:T1] *",
   "language": "python",
   "name": "conda-env-T1-py"
  },
  "language_info": {
   "codemirror_mode": {
    "name": "ipython",
    "version": 3
   },
   "file_extension": ".py",
   "mimetype": "text/x-python",
   "name": "python",
   "nbconvert_exporter": "python",
   "pygments_lexer": "ipython3",
   "version": "3.7.5"
  }
 },
 "nbformat": 4,
 "nbformat_minor": 4
}
